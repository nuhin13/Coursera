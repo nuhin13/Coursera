{
  "nbformat": 4,
  "nbformat_minor": 0,
  "metadata": {
    "colab": {
      "name": "Django_1_2_server.ipynb",
      "provenance": [],
      "collapsed_sections": [],
      "authorship_tag": "ABX9TyOIOAS6kELeKhAMlLGx+FmB",
      "include_colab_link": true
    },
    "kernelspec": {
      "name": "python3",
      "display_name": "Python 3"
    }
  },
  "cells": [
    {
      "cell_type": "markdown",
      "metadata": {
        "id": "view-in-github",
        "colab_type": "text"
      },
      "source": [
        "<a href=\"https://colab.research.google.com/github/nuhin13/Coursera/blob/master/Django/Web%20Application%20Technologies%20and%20Django/Week%201/Django_1_2_server.ipynb\" target=\"_parent\"><img src=\"https://colab.research.google.com/assets/colab-badge.svg\" alt=\"Open In Colab\"/></a>"
      ]
    },
    {
      "cell_type": "code",
      "metadata": {
        "id": "lICgF0VYbWtq",
        "colab_type": "code",
        "colab": {}
      },
      "source": [
        "from socket import *\n",
        "\n",
        "def createServer():\n",
        "    serversocket = socket(AF_INET, SOCK_STREAM)\n",
        "    try :\n",
        "        serversocket.bind(('localhost',9000))\n",
        "        serversocket.listen(5)\n",
        "        while(1):\n",
        "            (clientsocket, address) = serversocket.accept()\n",
        "\n",
        "            rd = clientsocket.recv(5000).decode()\n",
        "            pieces = rd.split(\"\\n\")\n",
        "            if ( len(pieces) > 0 ) : print(pieces[0])\n",
        "\n",
        "            data = \"HTTP/1.1 200 OK\\r\\n\"\n",
        "            data += \"Content-Type: text/html; charset=utf-8\\r\\n\"\n",
        "            data += \"\\r\\n\"\n",
        "            data += \"<html><body>Hello World</body></html>\\r\\n\\r\\n\"\n",
        "            clientsocket.sendall(data.encode())\n",
        "            clientsocket.shutdown(SHUT_WR)\n",
        "\n",
        "    except KeyboardInterrupt :\n",
        "        print(\"\\nShutting down...\\n\");\n",
        "    except Exception as exc :\n",
        "        print(\"Error:\\n\");\n",
        "        print(exc)\n",
        "\n",
        "    serversocket.close()"
      ],
      "execution_count": 1,
      "outputs": []
    },
    {
      "cell_type": "code",
      "metadata": {
        "id": "nElNAZuebhmT",
        "colab_type": "code",
        "colab": {
          "base_uri": "https://localhost:8080/",
          "height": 85
        },
        "outputId": "dc3d60bb-e144-481c-bb5f-77406909dda8"
      },
      "source": [
        "print('Access http://localhost:9000')\n",
        "createServer()"
      ],
      "execution_count": 2,
      "outputs": [
        {
          "output_type": "stream",
          "text": [
            "Access http://localhost:9000\n",
            "\n",
            "Shutting down...\n",
            "\n"
          ],
          "name": "stdout"
        }
      ]
    }
  ]
}